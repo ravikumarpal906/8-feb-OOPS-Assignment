{
 "cells": [
  {
   "cell_type": "markdown",
   "id": "4be2366d-a35d-4498-ba0e-d41aa2fb758b",
   "metadata": {},
   "source": [
    "Q1. What is Abstraction in OOps? Explain with an example."
   ]
  },
  {
   "cell_type": "markdown",
   "id": "ab60ffce-f62a-4f4b-afbe-81cfb51811bf",
   "metadata": {},
   "source": [
    "Abstraction is one of the fundamental concepts in object-oriented programming (OOP). It refers to the process of simplifying complex reality by modeling classes based on the essential properties and behaviors of real-world objects. Abstraction allows you to hide the unnecessary details of an object while exposing only the relevant features."
   ]
  },
  {
   "cell_type": "code",
   "execution_count": 1,
   "id": "9d847b5c-908b-42d7-bd31-c12bb78ec928",
   "metadata": {},
   "outputs": [],
   "source": [
    "class BankAccount:\n",
    "    def __init__(self,account_number,account_holder,balance):\n",
    "        self.account_number=account_number\n",
    "        self.account_holder=account_holder\n",
    "        self.balance=balance\n",
    "        \n",
    "    def deposit(self,amount):\n",
    "        self.balance+=amount\n",
    "        \n",
    "    def withdraw(self,amount):\n",
    "        if amount<=self.balance:\n",
    "            self.balance-=amount\n",
    "        else:\n",
    "            print(\"Insufficient funds.\")\n",
    "            \n",
    "    def get_balance(self):\n",
    "        return self.balance"
   ]
  },
  {
   "cell_type": "code",
   "execution_count": 3,
   "id": "e3b845d8-7d7e-45bc-8189-53a575842fea",
   "metadata": {},
   "outputs": [
    {
     "name": "stdout",
     "output_type": "stream",
     "text": [
      "Balance of account1:  1500\n",
      "Balance of account2:  300\n"
     ]
    }
   ],
   "source": [
    "account1=BankAccount(\"12345\",\"ravi\",1000)\n",
    "account2=BankAccount(\"67890\",\"pw\",500)\n",
    "\n",
    "account1.deposit(500)\n",
    "account2.withdraw(200)\n",
    "\n",
    "print(\"Balance of account1: \",account1.get_balance())\n",
    "print(\"Balance of account2: \",account2.get_balance())"
   ]
  },
  {
   "cell_type": "markdown",
   "id": "0fb46cab-3520-4979-9c24-96bf58092dc3",
   "metadata": {},
   "source": [
    "Q2. Differentiate between Abstraction and Encapsulation. Explain with an example."
   ]
  },
  {
   "cell_type": "markdown",
   "id": "79b1f557-286e-4997-8773-a6b4a15a6b35",
   "metadata": {},
   "source": [
    "Abstraction:\n",
    "\n",
    "Purpose: Abstraction is the process of simplifying complex reality by modeling classes based on the essential properties and behaviors of real-world objects. It focuses on defining what an object is and what it does, without specifying how it achieves its behavior\n",
    "\n",
    ".\n",
    "Usage: Abstraction hides the complex implementation details and exposes only the relevant features of an object. It helps in managing complexity and allows programmers to work with higher-level concepts.\n",
    "\n",
    "\n",
    "Example: In a banking application, you might have an abstract class BankAccount that defines essential properties (e.g., account number, account holder) and behaviors (e.g., deposit, withdraw) of a bank account. Subclasses (e.g., SavingsAccount, CheckingAccount) can inherit from this abstract class and provide specific implementations while adhering to the common interface."
   ]
  },
  {
   "cell_type": "code",
   "execution_count": 4,
   "id": "b2fc2f3e-69b6-4975-9d98-6d6401d12241",
   "metadata": {},
   "outputs": [],
   "source": [
    "class BankAccount:\n",
    "    def __init__(self, account_number, account_holder, balance):\n",
    "        self.account_number = account_number\n",
    "        self.account_holder = account_holder\n",
    "        self.balance = balance\n",
    "\n",
    "    def deposit(self, amount):\n",
    "        pass  # Abstract method\n",
    "\n",
    "    def withdraw(self, amount):\n",
    "        pass  # Abstract method\n",
    "\n",
    "# Subclass\n",
    "class SavingsAccount(BankAccount):\n",
    "    def deposit(self, amount):\n",
    "        # Specific implementation for depositing in a savings account\n",
    "        self.balance += amount\n",
    "\n",
    "    def withdraw(self, amount):\n",
    "        # Specific implementation for withdrawing from a savings account\n",
    "        if amount <= self.balance:\n",
    "            self.balance -= amount\n",
    "        else:\n",
    "            print(\"Insufficient funds.\")"
   ]
  },
  {
   "cell_type": "markdown",
   "id": "9c70730d-dbc1-447c-9e01-399ac8d98536",
   "metadata": {},
   "source": [
    "Encapsulation:\n",
    "\n",
    "Purpose: Encapsulation is the concept of bundling data (attributes) and methods (functions) that operate on that data into a single unit called a class. It focuses on restricting access to the internal state of an object and ensuring that the object's behavior is controlled through well-defined methods.\n",
    "\n",
    "\n",
    "Usage: Encapsulation provides data hiding and protection by making the internal state of an object private (using access modifiers like private, protected) and allowing controlled access through public methods. It enhances security and maintainability.\n",
    "\n",
    "\n",
    "ExampleIn this example, encapsulation is demonstrated by using private attributes (e.g., self.__balance) and public methods (e.g., deposit, withdraw, get_balance). It restricts direct access to the attributes and ensures that operations on the internal state are performed through controlled methods."
   ]
  },
  {
   "cell_type": "code",
   "execution_count": 5,
   "id": "11034c6b-b7ab-48aa-a416-e14df1d63d4a",
   "metadata": {},
   "outputs": [],
   "source": [
    "class BankAccount:\n",
    "    def __init__(self, account_number, account_holder, balance):\n",
    "        self.__account_number = account_number  # Private attribute\n",
    "        self.__account_holder = account_holder  # Private attribute\n",
    "        self.__balance = balance  # Private attribute\n",
    "\n",
    "    def deposit(self, amount):\n",
    "        # Encapsulated method to deposit funds\n",
    "        self.__balance += amount\n",
    "\n",
    "    def withdraw(self, amount):\n",
    "        # Encapsulated method to withdraw funds\n",
    "        if amount <= self.__balance:\n",
    "            self.__balance -= amount\n",
    "        else:\n",
    "            print(\"Insufficient funds.\")\n",
    "\n",
    "    def get_balance(self):\n",
    "        # Encapsulated method to retrieve balance\n",
    "        return self.__balance"
   ]
  },
  {
   "cell_type": "markdown",
   "id": "e530f01d-aa57-4b21-bbf6-54c0f19d732e",
   "metadata": {},
   "source": [
    "Q3. What is abc module in python? Why is it used?"
   ]
  },
  {
   "cell_type": "markdown",
   "id": "d2e3e24c-b314-49bf-8b5e-88b97029f285",
   "metadata": {},
   "source": [
    "The abc module in Python stands for \"Abstract Base Classes.\" It provides a framework for creating abstract base classes and abstract methods, enforcing certain behaviors and structures in derived classes. Abstract base classes are used to define a common interface or structure that subclasses must adhere to, ensuring consistency in the behavior of related classes."
   ]
  },
  {
   "cell_type": "code",
   "execution_count": 6,
   "id": "ae11d3cf-288a-4587-9056-1277846d7a0d",
   "metadata": {},
   "outputs": [
    {
     "name": "stdout",
     "output_type": "stream",
     "text": [
      "Area: 78.5, Perimeter: 31.400000000000002\n",
      "Area: 16, Perimeter: 16\n"
     ]
    }
   ],
   "source": [
    "from abc import ABC,abstractmethod\n",
    "\n",
    "class Shape(ABC):\n",
    "    @abstractmethod\n",
    "    def area(self):\n",
    "        pass\n",
    "    \n",
    "    @abstractmethod\n",
    "    def perimeter(self):\n",
    "        pass\n",
    "    \n",
    "class Circle(Shape):\n",
    "    def __init__(self, radius):\n",
    "        self.radius=radius\n",
    "        \n",
    "    def area(self):\n",
    "        return 3.14*self.radius**2\n",
    "    \n",
    "    def perimeter(self):\n",
    "        return 2*3.14*self.radius\n",
    "    \n",
    "class Square(Shape):\n",
    "    def __init__(self, side_length):\n",
    "        self.side_length = side_length\n",
    "\n",
    "    def area(self):\n",
    "        return self.side_length ** 2\n",
    "\n",
    "    def perimeter(self):\n",
    "        return 4 * self.side_length\n",
    "\n",
    "# Creating instances of concrete subclasses\n",
    "circle = Circle(5)\n",
    "square = Square(4)\n",
    "\n",
    "# Using polymorphism with abstract base class\n",
    "shapes = [circle, square]\n",
    "for shape in shapes:\n",
    "    print(f\"Area: {shape.area()}, Perimeter: {shape.perimeter()}\")"
   ]
  },
  {
   "cell_type": "markdown",
   "id": "7fcfc38c-a151-4f0a-86c5-d84909dc5dc7",
   "metadata": {},
   "source": [
    "Q4. How can we achieve data abstraction?"
   ]
  },
  {
   "cell_type": "markdown",
   "id": "ed73ed61-4e82-41e0-b85d-237634b87da2",
   "metadata": {},
   "source": [
    "Data abstraction is a fundamental concept in computer science and programming that allows you to simplify complex systems by focusing on the essential properties and behaviors of data while hiding unnecessary details. "
   ]
  },
  {
   "cell_type": "markdown",
   "id": "486d83a5-d8c8-4ba8-aa29-e5b2113f87dd",
   "metadata": {},
   "source": [
    "1.Classes and Objects: The use of classes and objects is one of the most common ways to achieve data abstraction. You define a class to represent a concept or entity, and the class encapsulates the data (attributes) and behaviors (methods) related to that concept. Clients of the class interact with objects, abstracting away the internal details."
   ]
  },
  {
   "cell_type": "markdown",
   "id": "f4747348-e7be-4f16-9ca5-8c8846297ff9",
   "metadata": {},
   "source": [
    "2.Abstract Base Classes (ABCs): Python's abc module allows you to define abstract base classes and abstract methods. Abstract base classes define a common interface that subclasses must adhere to, ensuring consistent behavior while abstracting away implementation details."
   ]
  },
  {
   "cell_type": "markdown",
   "id": "41b7813b-c5bf-4062-805b-ece0a2941892",
   "metadata": {},
   "source": [
    "3.Functions and Modules: Functions and modules allow you to abstract away functionality and data into reusable units. Functions encapsulate a series of instructions, and modules group related functions and data into separate files."
   ]
  },
  {
   "cell_type": "markdown",
   "id": "39b7d06c-4355-40f0-ab02-ba3f4fbbc7ee",
   "metadata": {},
   "source": [
    "Q5. Can we create an instance of an abstract class? Explain your answer."
   ]
  },
  {
   "cell_type": "markdown",
   "id": "5a99fcb9-12d8-49d7-a008-d2a4806eb825",
   "metadata": {},
   "source": [
    "No, you cannot create an instance of an abstract class in Python. Abstract classes are meant to serve as templates or blueprints for other classes, and they are not intended to be instantiated directly. Instead, they are designed to be subclassed, and instances of concrete subclasses can be created and used."
   ]
  },
  {
   "cell_type": "code",
   "execution_count": null,
   "id": "c44aa226-4c4a-4801-890a-929d6832cbe4",
   "metadata": {},
   "outputs": [],
   "source": []
  }
 ],
 "metadata": {
  "kernelspec": {
   "display_name": "Python 3 (ipykernel)",
   "language": "python",
   "name": "python3"
  },
  "language_info": {
   "codemirror_mode": {
    "name": "ipython",
    "version": 3
   },
   "file_extension": ".py",
   "mimetype": "text/x-python",
   "name": "python",
   "nbconvert_exporter": "python",
   "pygments_lexer": "ipython3",
   "version": "3.10.8"
  }
 },
 "nbformat": 4,
 "nbformat_minor": 5
}
